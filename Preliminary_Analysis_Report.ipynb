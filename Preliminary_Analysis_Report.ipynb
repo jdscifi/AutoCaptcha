{
  "nbformat": 4,
  "nbformat_minor": 5,
  "metadata": {
    "kernelspec": {
      "display_name": "Python 3 (ipykernel)",
      "language": "python",
      "name": "python3"
    },
    "language_info": {
      "codemirror_mode": {
        "name": "ipython",
        "version": 3
      },
      "file_extension": ".py",
      "mimetype": "text/x-python",
      "name": "python",
      "nbconvert_exporter": "python",
      "pygments_lexer": "ipython3",
      "version": "3.9.9"
    },
    "colab": {
      "name": "Preliminary Analysis Report.ipynb",
      "provenance": [],
      "include_colab_link": true
    }
  },
  "cells": [
    {
      "cell_type": "markdown",
      "metadata": {
        "id": "view-in-github",
        "colab_type": "text"
      },
      "source": [
        "<a href=\"https://colab.research.google.com/github/jdscifi/AutoCaptcha/blob/developement/Preliminary_Analysis_Report.ipynb\" target=\"_parent\"><img src=\"https://colab.research.google.com/assets/colab-badge.svg\" alt=\"Open In Colab\"/></a>"
      ]
    },
    {
      "cell_type": "code",
      "metadata": {
        "id": "2b3eed89"
      },
      "source": [
        "import logging\n",
        "import cv2\n",
        "import numpy as np\n",
        "from matplotlib import pyplot as plt\n",
        "%matplotlib inline\n",
        "from IPython.display import clear_output\n",
        "\n",
        "import os\n",
        "import pandas as pd\n",
        "import random\n",
        "import string"
      ],
      "id": "2b3eed89",
      "execution_count": null,
      "outputs": []
    },
    {
      "cell_type": "code",
      "metadata": {
        "id": "48afb154"
      },
      "source": [
        "import logging\n",
        "import cv2\n",
        "import numpy as np\n",
        "from matplotlib import pyplot as plt\n",
        "%matplotlib inline\n",
        "import os\n",
        "import pandas as pd"
      ],
      "id": "48afb154",
      "execution_count": null,
      "outputs": []
    },
    {
      "cell_type": "code",
      "metadata": {
        "id": "5abe1ad9"
      },
      "source": [
        "logging.basicConfig(filename='AutoCaptcha.log', filemode='w', format='%(name)s - %(levelname)s - %(message)s')\n",
        "EXPECTEDIMAGEWIDTH = 1000"
      ],
      "id": "5abe1ad9",
      "execution_count": null,
      "outputs": []
    },
    {
      "cell_type": "markdown",
      "metadata": {
        "id": "a8b0fdc3"
      },
      "source": [
        "# Total dataset: 95,486"
      ],
      "id": "a8b0fdc3"
    },
    {
      "cell_type": "code",
      "metadata": {
        "id": "de24794f",
        "outputId": "c351f177-f2b9-458c-d5a1-47dac78cb6bf"
      },
      "source": [
        "characterList = []\n",
        "datasetPath = r\"C:\\Users\\jaydu\\Documents\\Durham\\Capstone Group 5\\Auto Captcha\\datasetImages\\set6\\captcha_images\"\n",
        "for root,dre, files in os.walk(datasetPath):\n",
        "    # print(\"Total dataset\",len(files))\n",
        "    for name in files:\n",
        "        characterList.extend(list(name.replace(\".png\",\"\")))\n",
        "df = pd.DataFrame({\"characters\":characterList})\n",
        "characterData = df.characters.value_counts().sort_index()\n",
        "characterData.plot.bar(title=\"Character Occurrance\",figsize=(20,10))"
      ],
      "id": "de24794f",
      "execution_count": null,
      "outputs": [
        {
          "data": {
            "text/plain": [
              "<AxesSubplot:title={'center':'Character Occurrance'}>"
            ]
          },
          "execution_count": 4,
          "metadata": {},
          "output_type": "execute_result"
        },
        {
          "data": {
            "image/png": "[encoded data removed]",
            "text/plain": [
              "<Figure size 1440x720 with 1 Axes>"
            ]
          },
          "metadata": {
            "needs_background": "light"
          },
          "output_type": "display_data"
        }
      ]
    },
    {
      "cell_type": "code",
      "metadata": {
        "id": "b94a861d"
      },
      "source": [
        "characterData.to_csv(\"character.csv\")"
      ],
      "id": "b94a861d",
      "execution_count": null,
      "outputs": []
    },
    {
      "cell_type": "code",
      "metadata": {
        "id": "dae4ef90",
        "outputId": "997d5ef6-913f-4a58-bf07-f1d77c24281e"
      },
      "source": [
        "characterData.shape"
      ],
      "id": "dae4ef90",
      "execution_count": null,
      "outputs": [
        {
          "data": {
            "text/plain": [
              "(23,)"
            ]
          },
          "execution_count": 6,
          "metadata": {},
          "output_type": "execute_result"
        }
      ]
    },
    {
      "cell_type": "markdown",
      "metadata": {
        "id": "f97b934b"
      },
      "source": [
        "### Note: Many character are avoided by major technologies like BotDetect, because they can be eaily confused for each other\n",
        "### For example (0,o),(1,i,j), etc....\n",
        "#### Hence out of the expected 36 characters only 23 characters are present"
      ],
      "id": "f97b934b"
    },
    {
      "cell_type": "markdown",
      "metadata": {
        "id": "989e752a"
      },
      "source": [
        "# Image Pre Processing includes \n",
        "## 1) Thresholding images such that pixels above 75 are converted to 0 to make lines darker\n",
        "## 2) Dilating the image is done to eliminate the distortion line\n",
        "## 3) Eroding brings back the pixel thicknes\n",
        "## 4) Sharpening makes the edges easier\n",
        "## 5) Binary thresholding does is a final step before image segmentation"
      ],
      "id": "989e752a"
    },
    {
      "cell_type": "code",
      "metadata": {
        "id": "2a47e6a3"
      },
      "source": [
        "class AutoCaptcha:\n",
        "    kernel = np.ones((3, 3), np.uint8)\n",
        "    def __init__(self, imagePath=\"\", label = \"\"):\n",
        "        try:\n",
        "            # use the image object for your operations\n",
        "            self.imageObject = cv2.imread(imagePath,cv2.IMREAD_UNCHANGED)\n",
        "            #make mask of where the transparent bits are\n",
        "            trans_mask = self.imageObject[:,:,3] == 0\n",
        "            self.imageLabel = label\n",
        "            #replace areas of transparency with white and not transparent\n",
        "            self.imageObject[trans_mask] = [255, 255, 255, 255]\n",
        "\n",
        "            #new image without alpha channel...\n",
        "            self.imageObject = cv2.cvtColor(self.imageObject, cv2.COLOR_BGRA2BGR)\n",
        "            # self.ImageShow()\n",
        "            self.imageObject = cv2.cvtColor(self.imageObject, cv2.COLOR_BGR2GRAY)\n",
        "        except Exception as e:\n",
        "            logging.exception(\"Exception Image constructor\", exc_info=True)\n",
        "            print(e)\n",
        "    \n",
        "    def ImageThresholding(self,thresholdType,thresholdValue):\n",
        "        try:\n",
        "            ret,self.imageObject = cv2.threshold(self.imageObject,thresholdValue,255,thresholdType)\n",
        "        except Exception as e:\n",
        "            logging.exception(\"Exception Image constructor\", exc_info=True)\n",
        "            print(e)\n",
        "\n",
        "    def ImageShow(self):\n",
        "        try:\n",
        "            plt.imshow(self.imageObject)\n",
        "            plt.show()\n",
        "            #cv2.imshow('image', self.imageObject)\n",
        "            #cv2.waitKey(0)\n",
        "        except Exception as e:\n",
        "            logging.exception(\"Exception Image Show\", exc_info=True)\n",
        "            # print(e)\n",
        "        finally:\n",
        "            pass\n",
        "\n",
        "    def ImageWrite(self, writePath):\n",
        "        try:\n",
        "            cv2.imwrite(writePath, self.imageObject)\n",
        "        except Exception as e:\n",
        "            logging.exception(\"Exception Image Show\", exc_info=True)\n",
        "            print(e)\n",
        "\n",
        "    def GrayUpScale(self):\n",
        "        try:\n",
        "            pass\n",
        "            # scaling the image to expected width\n",
        "            oldHeight, oldWidth = self.imageObject.shape\n",
        "            newWidth = EXPECTEDIMAGEWIDTH\n",
        "            newHeight = int(newWidth * oldHeight / oldWidth)\n",
        "            # reassigning the image with the gray scale version\n",
        "            # self.imageObject = cv2.cvtColor(self.imageObject, cv2.COLOR_BGR2GRAY)\n",
        "            # reassigning the image with the scaled version\n",
        "            self.imageObject = cv2.resize(self.imageObject, (newWidth, newHeight))\n",
        "        except Exception as e:\n",
        "            logging.exception(\"Exception GrayUpScale\", exc_info=True)\n",
        "            print(e)\n",
        "\n",
        "    def Erosion(self,iterations):\n",
        "        try:\n",
        "            self.imageObject = cv2.erode(self.imageObject, self.kernel, iterations=iterations)\n",
        "            print(\"Post Erosion\")\n",
        "            #self.ImageShow()\n",
        "        except Exception as e:\n",
        "            logging.exception(\"Exception Erosion\", exc_info=True)\n",
        "            print(e)\n",
        "    \n",
        "    def Sharpening(self):\n",
        "        try:\n",
        "            sharpenFilter = np.array([[0, -1, 0], [-1, 5, -1], [0, -1, 0]])\n",
        "            self.imageObject = cv2.filter2D(self.imageObject, -1, sharpenFilter)\n",
        "            #print(\"Post Sharpening\")\n",
        "            #self.ImageShow()\n",
        "        except Exception as e:\n",
        "            logging.exception(\"Exception Sharpening\", exc_info=True)\n",
        "            print(e)\n",
        "    \n",
        "    def test(self):\n",
        "        img = self.imageObject\n",
        "        #gray = cv2.cvtColor(img,cv2.COLOR_BGR2GRAY)\n",
        "        edges = cv2.Canny(img,50,150,apertureSize = 3)\n",
        "        minLineLength = 100\n",
        "        maxLineGap = 10\n",
        "        lines = cv2.HoughLinesP(edges,1,np.pi/180,100,minLineLength,maxLineGap)\n",
        "        for x1,y1,x2,y2 in lines[0]:\n",
        "            cv2.line(img,(x1,y1),(x2,y2),(0,255,0),2)\n",
        "            cv2.imwrite('houghlines5.jpg',img)\n",
        "\n",
        "    def Dilation(self,iterations):\n",
        "        try:          \n",
        "            self.imageObject = cv2.dilate(self.imageObject, self.kernel, iterations=iterations)\n",
        "            #print(\"Post Dilation\")\n",
        "            # self.ImageShow()            \n",
        "\n",
        "            \n",
        "        except Exception as e:\n",
        "            logging.exception(\"Exception Dilation\", exc_info=True)\n",
        "            print(e)\n",
        "    \n",
        "    def MorphologicalGradient(self):\n",
        "        try:\n",
        "            self.imageObject = cv.morphologyEx(self.imageObject, cv.MORPH_GRADIENT, self.kernel)\n",
        "        except Exception as e:\n",
        "            logging.exception(\"Exception MorphologicalGradient\", exc_info=True)\n",
        "            print(e)\n",
        "            \n",
        "    def ImageSkeletonization(self):\n",
        "        # Applying Zhang's thining algorithm on the image to eliminate distorting lines and pixels that are usual thinner than the character strokes\n",
        "        self.imageObject = cv2.ximgproc.thinning(self.imageObject, cv2.ximgproc.THINNING_ZHANGSUEN)\n",
        "    \n",
        "    def CropImage(self):\n",
        "        def parseStats(colStatus):\n",
        "            st = 0\n",
        "            ed = len(colStatus)-1\n",
        "            # print(colStatus)\n",
        "            while colStatus[st]:\n",
        "                st += 1\n",
        "            while colStatus[ed]:\n",
        "                ed -= 1\n",
        "            return [st - 1, ed + 1]\n",
        "        height, width =  self.imageObject.shape\n",
        "        emptyCols = parseStats((np.sum(self.imageObject,axis=0)/255) >= (0.90*height))\n",
        "        emptyRows = parseStats((np.sum(self.imageObject,axis=1)/255) >= (0.90*width))\n",
        "        self.imageObject = self.imageObject[emptyRows[0]:emptyRows[1],emptyCols[0]:emptyCols[1]]\n",
        "        \n",
        "\n",
        "    def CropToContour(self):\n",
        "        \"\"\"HSV = cv2.cvtColor(self.imageObject, cv2.COLOR_BGR2HSV)\n",
        "        low = np.array([0, 35, 0])\n",
        "        high = np.array([253, 255, 255])\n",
        "\n",
        "        mask = cv2.inRange(HSV, low, high)\n",
        "        cv2.imshow(\"mask\", mask)\n",
        "\n",
        "        result = cv2.bitwise_and(self.imageObject, self.imageObject, mask=mask)\n",
        "        cv2.imshow(\"result\", result)\"\"\"\n",
        "        contours, heirarchy = cv2.findContours(~self.imageObject, cv2.RETR_TREE, cv2.CHAIN_APPROX_SIMPLE)\n",
        "        cv2.drawContours(self.imageObject, contours, 0, (0,255,0), 3)\n",
        "        \n",
        "        #sortedCountours = sorted(contours, key=cv2.contourArea)[-1]\n",
        "        #x,y,w,h = cv2.boundingRect(sortedCountours)\n",
        "        #cv2.drawContours(self.imageObject, contours, -1, (0, 255, 0), 3)\n",
        "        #cv2.imshow('Contours', self.imageObject)\n",
        "        #self.imageObject = self.imageObject[y:y+h, x:x+w]\n",
        "        \n",
        "    def Segmentation(self):\n",
        "        try:\n",
        "            height, width = self.imageObject.shape\n",
        "            segWidth = width // len(self.imageLabel)\n",
        "            s = 0\n",
        "            for i in range(len(self.imageLabel)):\n",
        "                fileLoc = r\"C:\\Users\\jaydu\\Documents\\Durham\\CapstoneGroup5\\AutoCaptcha\\characters\\{}\\{}.png\".format(self.imageLabel[i],''.join(random.choices(string.ascii_uppercase + string.digits, k=7)))\n",
        "                cv2.imwrite(fileLoc,self.imageObject[:,s:s+segWidth])\n",
        "                #plt.imshow(self.imageObject[:,s:s+segWidth])\n",
        "                #plt.show()\n",
        "                s = s+segWidth + 1\n",
        "        except Exception as e:\n",
        "            print(e)\n",
        "        \n",
        "    def preProcessing(self, wrt=\"\"):\n",
        "        print(\"Original Image\")\n",
        "        #self.ImageShow()\n",
        "        self.GrayUpScale()\n",
        "        # self.CropToContour()\n",
        "        #print(\"Upscaled Image\")\n",
        "        #self.ImageShow()\n",
        "        \n",
        "        #self.ImageShow()\n",
        "        #self.ImageThresholding(cv2.THRESH_BINARY, 100)\n",
        "        #print(\"Post thresholding\")\n",
        "        #self.ImageShow()\n",
        "        self.Dilation(iterations=13)\n",
        "        #self.Erosion(1)\n",
        "        self.Sharpening()        \n",
        "        #self.Dilation(iterations=3)\n",
        "        # self.CropToContour()\n",
        "        #self.imageObject = cv2.medianBlur(self.imageObject,9)\n",
        "        self.ImageThresholding(cv2.THRESH_BINARY, 152)\n",
        "        self.CropImage()\n",
        "        \n",
        "        self.Segmentation()\n",
        "        \n",
        "        "
      ],
      "id": "2a47e6a3",
      "execution_count": null,
      "outputs": []
    },
    {
      "cell_type": "code",
      "metadata": {
        "scrolled": false,
        "id": "206beefb",
        "outputId": "0c0b84f7-6d47-47ab-d6a1-952489dab2ee"
      },
      "source": [
        "r = 0\n",
        "for root, dirs, files in os.walk(r\"C:\\Users\\jaydu\\Documents\\Durham\\CapstoneGroup5\\AutoCaptcha\\datasetImages\\set6\\captcha_images\"):\n",
        "    for name in files:\n",
        "        # print(os.path.join(root, name))\n",
        "        imgOj = AutoCaptcha(os.path.join(root, name),name.replace(\".png\",\"\"))\n",
        "        imgOj.preProcessing()\n",
        "        r+=1\n",
        "        clear_output()\n",
        "        print(int(r*100/95486))\n",
        "        \n",
        "        #imgOj.ImageShow()\n",
        "#print(\"Final\")\n",
        "\n",
        "#imgOj.ImageWrite(i.replace(r\"\\datasetImages\\set1\\captcha_images\",\"\"))\n",
        "#print(\"------------------------------------------------------------------------------\")\n",
        "    "
      ],
      "id": "206beefb",
      "execution_count": null,
      "outputs": [
        {
          "name": "stdout",
          "output_type": "stream",
          "text": [
            "100\n"
          ]
        }
      ]
    },
    {
      "cell_type": "code",
      "metadata": {
        "id": "707dd9a8"
      },
      "source": [
        ""
      ],
      "id": "707dd9a8",
      "execution_count": null,
      "outputs": []
    },
    {
      "cell_type": "code",
      "metadata": {
        "id": "193ba6b0"
      },
      "source": [
        ""
      ],
      "id": "193ba6b0",
      "execution_count": null,
      "outputs": []
    }
  ]
}